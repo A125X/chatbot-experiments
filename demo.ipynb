{
 "cells": [
  {
   "cell_type": "code",
   "execution_count": 82,
   "metadata": {},
   "outputs": [],
   "source": [
    "import torch\n",
    "from transformers import AutoTokenizer, AutoModelForSeq2SeqLM\n",
    "import pandas as pd\n",
    "import numpy as np\n",
    "import random\n",
    "import shutil\n",
    "from tqdm.auto import trange"
   ]
  },
  {
   "cell_type": "code",
   "execution_count": 83,
   "metadata": {},
   "outputs": [],
   "source": [
    "model_checkpoint = 'cointegrated/rut5-small-chitchat2'\n",
    "new_model_name = 'rut5-small-chitchat2-fine-tuned'\n",
    "shutil.rmtree(new_model_name)\n",
    "\n",
    "tokenizer = AutoTokenizer.from_pretrained(model_checkpoint)\n",
    "model = AutoModelForSeq2SeqLM.from_pretrained(model_checkpoint)\n",
    "optimizer = torch.optim.Adam(model.parameters(), lr=1e-5)"
   ]
  },
  {
   "cell_type": "code",
   "execution_count": 84,
   "metadata": {},
   "outputs": [],
   "source": [
    "#fake data for training\n",
    "pairs = [[str(n), str(n)] for n in range(1000)]"
   ]
  },
  {
   "cell_type": "code",
   "execution_count": 85,
   "metadata": {},
   "outputs": [
    {
     "name": "stdout",
     "output_type": "stream",
     "text": [
      "EPOCH 0\n"
     ]
    },
    {
     "data": {
      "application/vnd.jupyter.widget-view+json": {
       "model_id": "c82c8f4e30704dd3982946c30cceb5d8",
       "version_major": 2,
       "version_minor": 0
      },
      "text/plain": [
       "  0%|          | 0/62 [00:00<?, ?it/s]"
      ]
     },
     "metadata": {},
     "output_type": "display_data"
    },
    {
     "name": "stdout",
     "output_type": "stream",
     "text": [
      "step 0 loss 2.9394114017486572\n",
      "EPOCH 1\n"
     ]
    },
    {
     "data": {
      "application/vnd.jupyter.widget-view+json": {
       "model_id": "8bf8a0f9e8f148f5ad5a68d7b30f8c22",
       "version_major": 2,
       "version_minor": 0
      },
      "text/plain": [
       "  0%|          | 0/62 [00:00<?, ?it/s]"
      ]
     },
     "metadata": {},
     "output_type": "display_data"
    },
    {
     "name": "stdout",
     "output_type": "stream",
     "text": [
      "step 0 loss 1.8304987776847113\n",
      "EPOCH 2\n"
     ]
    },
    {
     "data": {
      "application/vnd.jupyter.widget-view+json": {
       "model_id": "c1a819860a3f4a829e5d6b1c95a842e1",
       "version_major": 2,
       "version_minor": 0
      },
      "text/plain": [
       "  0%|          | 0/62 [00:00<?, ?it/s]"
      ]
     },
     "metadata": {},
     "output_type": "display_data"
    },
    {
     "name": "stdout",
     "output_type": "stream",
     "text": [
      "step 0 loss 1.2506193270683288\n"
     ]
    }
   ],
   "source": [
    "batch_size = 16\n",
    "report_steps = 200\n",
    "epochs = 3\n",
    "\n",
    "model.train()\n",
    "losses = []\n",
    "for epoch in range(epochs):\n",
    "    print('EPOCH', epoch)\n",
    "    random.shuffle(pairs)\n",
    "    for i in trange(0, int(len(pairs) / batch_size)):\n",
    "        batch = pairs[i * batch_size: (i + 1) * batch_size]\n",
    "        \n",
    "        x = tokenizer([p[0] for p in batch], return_tensors='pt', padding=True).to(model.device)\n",
    "        y = tokenizer([p[1] for p in batch], return_tensors='pt', padding=True).to(model.device)\n",
    "        \n",
    "        # -100 - специальное значение, позволяющее не учитывать токены\n",
    "        y.input_ids[y.input_ids == 0] = -100\n",
    "        \n",
    "        loss = model(\n",
    "            input_ids=x.input_ids,\n",
    "            attention_mask=x.attention_mask,\n",
    "            labels=y.input_ids,\n",
    "            decoder_attention_mask=y.attention_mask,\n",
    "            return_dict=True\n",
    "        ).loss\n",
    "        \n",
    "        loss.backward()\n",
    "        optimizer.step()\n",
    "        optimizer.zero_grad()\n",
    "\n",
    "        # печатаем скользящее среднее значение функции потерь\n",
    "        losses.append(loss.item())\n",
    "        if i % report_steps == 0:\n",
    "            print('step', i, 'loss', np.mean(losses[-report_steps:]))"
   ]
  },
  {
   "cell_type": "code",
   "execution_count": 86,
   "metadata": {},
   "outputs": [],
   "source": [
    "#model.eval()"
   ]
  },
  {
   "cell_type": "code",
   "execution_count": 87,
   "metadata": {},
   "outputs": [],
   "source": [
    "def answer(x, **kwargs):\n",
    "    inputs = tokenizer(x, return_tensors='pt').to(model.device)\n",
    "    with torch.no_grad():\n",
    "        hypotheses = model.generate(\n",
    "            **inputs, \n",
    "            do_sample=True, top_p=0.5, num_return_sequences=3, \n",
    "            repetition_penalty=2.5,\n",
    "            max_length=32,\n",
    "        )\n",
    "    return tokenizer.decode(hypotheses[0], skip_special_tokens=True)"
   ]
  },
  {
   "cell_type": "code",
   "execution_count": 88,
   "metadata": {},
   "outputs": [
    {
     "data": {
      "text/plain": [
       "('rut5-rut5-small-chitchat2-fine-tuned/tokenizer_config.json',\n",
       " 'rut5-rut5-small-chitchat2-fine-tuned/special_tokens_map.json',\n",
       " 'rut5-rut5-small-chitchat2-fine-tuned/spiece.model',\n",
       " 'rut5-rut5-small-chitchat2-fine-tuned/added_tokens.json',\n",
       " 'rut5-rut5-small-chitchat2-fine-tuned/tokenizer.json')"
      ]
     },
     "execution_count": 88,
     "metadata": {},
     "output_type": "execute_result"
    }
   ],
   "source": [
    "model.save_pretrained(new_model_name)\n",
    "tokenizer.save_pretrained(new_model_name)"
   ]
  },
  {
   "cell_type": "code",
   "execution_count": 89,
   "metadata": {},
   "outputs": [
    {
     "data": {
      "text/plain": [
       "'Что это такое?'"
      ]
     },
     "execution_count": 89,
     "metadata": {},
     "output_type": "execute_result"
    }
   ],
   "source": [
    "answer('какое-то рандомное совершенно предложение')"
   ]
  }
 ],
 "metadata": {
  "kernelspec": {
   "display_name": "torch",
   "language": "python",
   "name": "python3"
  },
  "language_info": {
   "codemirror_mode": {
    "name": "ipython",
    "version": 3
   },
   "file_extension": ".py",
   "mimetype": "text/x-python",
   "name": "python",
   "nbconvert_exporter": "python",
   "pygments_lexer": "ipython3",
   "version": "3.9.13"
  },
  "orig_nbformat": 4,
  "vscode": {
   "interpreter": {
    "hash": "dec525beecad1253d558215be43fe388cfdb23d116f783c6d23544e0c511c071"
   }
  }
 },
 "nbformat": 4,
 "nbformat_minor": 2
}
